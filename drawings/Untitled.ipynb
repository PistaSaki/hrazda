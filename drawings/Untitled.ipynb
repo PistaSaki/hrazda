{
 "cells": [
  {
   "cell_type": "code",
   "execution_count": 1,
   "metadata": {},
   "outputs": [],
   "source": [
    "import sys\n",
    "sys.path.append(['C:\\\\Users\\\\pista\\\\AppData\\\\Roaming\\\\FreeCAD\\\\Mod\\\\cadquery_module\\\\Libs', 'C:\\\\Users\\\\pista\\\\AppData\\\\Roaming\\\\FreeCAD\\\\Mod\\\\cadquery_module\\\\Libs\\\\cadquery', 'C:\\\\Users\\\\pista\\\\AppData\\\\Roaming\\\\FreeCAD\\\\Mod\\\\cadquery_module', 'C:\\\\Program Files\\\\FreeCAD 0.18\\\\Mod\\\\Web', 'C:\\\\Program Files\\\\FreeCAD 0.18\\\\Mod\\\\Tux', 'C:\\\\Program Files\\\\FreeCAD 0.18\\\\Mod\\\\Test', 'C:\\\\Program Files\\\\FreeCAD 0.18\\\\Mod\\\\TechDraw', 'C:\\\\Program Files\\\\FreeCAD 0.18\\\\Mod\\\\Surface', 'C:\\\\Program Files\\\\FreeCAD 0.18\\\\Mod\\\\Start', 'C:\\\\Program Files\\\\FreeCAD 0.18\\\\Mod\\\\Spreadsheet', 'C:\\\\Program Files\\\\FreeCAD 0.18\\\\Mod\\\\Sketcher', 'C:\\\\Program Files\\\\FreeCAD 0.18\\\\Mod\\\\Show', 'C:\\\\Program Files\\\\FreeCAD 0.18\\\\Mod\\\\Ship', 'C:\\\\Program Files\\\\FreeCAD 0.18\\\\Mod\\\\Robot', 'C:\\\\Program Files\\\\FreeCAD 0.18\\\\Mod\\\\Raytracing', 'C:\\\\Program Files\\\\FreeCAD 0.18\\\\Mod\\\\Points', 'C:\\\\Program Files\\\\FreeCAD 0.18\\\\Mod\\\\Plot', 'C:\\\\Program Files\\\\FreeCAD 0.18\\\\Mod\\\\Path', 'C:\\\\Program Files\\\\FreeCAD 0.18\\\\Mod\\\\PartDesign', 'C:\\\\Program Files\\\\FreeCAD 0.18\\\\Mod\\\\Part', 'C:\\\\Program Files\\\\FreeCAD 0.18\\\\Mod\\\\OpenSCAD', 'C:\\\\Program Files\\\\FreeCAD 0.18\\\\Mod\\\\MeshPart', 'C:\\\\Program Files\\\\FreeCAD 0.18\\\\Mod\\\\Mesh', 'C:\\\\Program Files\\\\FreeCAD 0.18\\\\Mod\\\\Measure', 'C:\\\\Program Files\\\\FreeCAD 0.18\\\\Mod\\\\Material', 'C:\\\\Program Files\\\\FreeCAD 0.18\\\\Mod\\\\Inspection', 'C:\\\\Program Files\\\\FreeCAD 0.18\\\\Mod\\\\Import', 'C:\\\\Program Files\\\\FreeCAD 0.18\\\\Mod\\\\Image', 'C:\\\\Program Files\\\\FreeCAD 0.18\\\\Mod\\\\Idf', 'C:\\\\Program Files\\\\FreeCAD 0.18\\\\Mod\\\\Fem', 'C:\\\\Program Files\\\\FreeCAD 0.18\\\\Mod\\\\Drawing', 'C:\\\\Program Files\\\\FreeCAD 0.18\\\\Mod\\\\Draft', 'C:\\\\Program Files\\\\FreeCAD 0.18\\\\Mod\\\\Complete', 'C:\\\\Program Files\\\\FreeCAD 0.18\\\\Mod\\\\Arch', 'C:\\\\Program Files\\\\FreeCAD 0.18\\\\Mod\\\\AddonManager', 'C:\\\\Program Files\\\\FreeCAD 0.18\\\\Mod', 'C:\\\\Program Files\\\\FreeCAD 0.18\\\\lib64', 'C:\\\\Program Files\\\\FreeCAD 0.18\\\\lib', 'C:\\\\Program Files\\\\FreeCAD 0.18\\\\Ext', 'C:\\\\Program Files\\\\FreeCAD 0.18\\\\bin', 'C:\\\\Program Files\\\\FreeCAD 0.18\\\\bin\\\\python36.zip', 'C:\\\\Program Files\\\\FreeCAD 0.18\\\\bin\\\\DLLs', 'C:\\\\Program Files\\\\FreeCAD 0.18\\\\bin\\\\lib', 'C:\\\\Program Files\\\\FreeCAD 0.18\\\\bin', 'C:\\\\Program Files\\\\FreeCAD 0.18\\\\bin\\\\lib\\\\site-packages', 'C:\\\\Users\\\\pista\\\\AppData\\\\Roaming\\\\FreeCAD\\\\Mod\\\\cadquery_module\\\\ThirdParty', '', 'C:\\\\Program Files\\\\FreeCAD 0.18\\\\Macro', 'C:\\\\Users\\\\pista\\\\AppData\\\\Roaming\\\\FreeCAD\\\\Mod\\\\cadquery_module\\\\Libs/cadquery/examples'])"
   ]
  },
  {
   "cell_type": "code",
   "execution_count": 2,
   "metadata": {},
   "outputs": [
    {
     "data": {
      "text/plain": [
       "['',\n",
       " 'C:\\\\Users\\\\pista\\\\moje\\\\WPy-3662\\\\python-3.6.6.amd64\\\\python36.zip',\n",
       " 'C:\\\\Users\\\\pista\\\\moje\\\\WPy-3662\\\\python-3.6.6.amd64\\\\DLLs',\n",
       " 'C:\\\\Users\\\\pista\\\\moje\\\\WPy-3662\\\\python-3.6.6.amd64\\\\lib',\n",
       " 'C:\\\\Users\\\\pista\\\\moje\\\\WPy-3662\\\\python-3.6.6.amd64',\n",
       " 'C:\\\\Users\\\\pista\\\\moje\\\\WPy-3662\\\\python-3.6.6.amd64\\\\lib\\\\site-packages',\n",
       " 'C:\\\\Users\\\\pista\\\\moje\\\\WPy-3662\\\\python-3.6.6.amd64\\\\lib\\\\site-packages\\\\IPython\\\\extensions',\n",
       " 'C:\\\\Users\\\\pista\\\\moje\\\\WPy-3662\\\\settings\\\\.ipython',\n",
       " ['C:\\\\Users\\\\pista\\\\AppData\\\\Roaming\\\\FreeCAD\\\\Mod\\\\cadquery_module\\\\Libs',\n",
       "  'C:\\\\Users\\\\pista\\\\AppData\\\\Roaming\\\\FreeCAD\\\\Mod\\\\cadquery_module\\\\Libs\\\\cadquery',\n",
       "  'C:\\\\Users\\\\pista\\\\AppData\\\\Roaming\\\\FreeCAD\\\\Mod\\\\cadquery_module',\n",
       "  'C:\\\\Program Files\\\\FreeCAD 0.18\\\\Mod\\\\Web',\n",
       "  'C:\\\\Program Files\\\\FreeCAD 0.18\\\\Mod\\\\Tux',\n",
       "  'C:\\\\Program Files\\\\FreeCAD 0.18\\\\Mod\\\\Test',\n",
       "  'C:\\\\Program Files\\\\FreeCAD 0.18\\\\Mod\\\\TechDraw',\n",
       "  'C:\\\\Program Files\\\\FreeCAD 0.18\\\\Mod\\\\Surface',\n",
       "  'C:\\\\Program Files\\\\FreeCAD 0.18\\\\Mod\\\\Start',\n",
       "  'C:\\\\Program Files\\\\FreeCAD 0.18\\\\Mod\\\\Spreadsheet',\n",
       "  'C:\\\\Program Files\\\\FreeCAD 0.18\\\\Mod\\\\Sketcher',\n",
       "  'C:\\\\Program Files\\\\FreeCAD 0.18\\\\Mod\\\\Show',\n",
       "  'C:\\\\Program Files\\\\FreeCAD 0.18\\\\Mod\\\\Ship',\n",
       "  'C:\\\\Program Files\\\\FreeCAD 0.18\\\\Mod\\\\Robot',\n",
       "  'C:\\\\Program Files\\\\FreeCAD 0.18\\\\Mod\\\\Raytracing',\n",
       "  'C:\\\\Program Files\\\\FreeCAD 0.18\\\\Mod\\\\Points',\n",
       "  'C:\\\\Program Files\\\\FreeCAD 0.18\\\\Mod\\\\Plot',\n",
       "  'C:\\\\Program Files\\\\FreeCAD 0.18\\\\Mod\\\\Path',\n",
       "  'C:\\\\Program Files\\\\FreeCAD 0.18\\\\Mod\\\\PartDesign',\n",
       "  'C:\\\\Program Files\\\\FreeCAD 0.18\\\\Mod\\\\Part',\n",
       "  'C:\\\\Program Files\\\\FreeCAD 0.18\\\\Mod\\\\OpenSCAD',\n",
       "  'C:\\\\Program Files\\\\FreeCAD 0.18\\\\Mod\\\\MeshPart',\n",
       "  'C:\\\\Program Files\\\\FreeCAD 0.18\\\\Mod\\\\Mesh',\n",
       "  'C:\\\\Program Files\\\\FreeCAD 0.18\\\\Mod\\\\Measure',\n",
       "  'C:\\\\Program Files\\\\FreeCAD 0.18\\\\Mod\\\\Material',\n",
       "  'C:\\\\Program Files\\\\FreeCAD 0.18\\\\Mod\\\\Inspection',\n",
       "  'C:\\\\Program Files\\\\FreeCAD 0.18\\\\Mod\\\\Import',\n",
       "  'C:\\\\Program Files\\\\FreeCAD 0.18\\\\Mod\\\\Image',\n",
       "  'C:\\\\Program Files\\\\FreeCAD 0.18\\\\Mod\\\\Idf',\n",
       "  'C:\\\\Program Files\\\\FreeCAD 0.18\\\\Mod\\\\Fem',\n",
       "  'C:\\\\Program Files\\\\FreeCAD 0.18\\\\Mod\\\\Drawing',\n",
       "  'C:\\\\Program Files\\\\FreeCAD 0.18\\\\Mod\\\\Draft',\n",
       "  'C:\\\\Program Files\\\\FreeCAD 0.18\\\\Mod\\\\Complete',\n",
       "  'C:\\\\Program Files\\\\FreeCAD 0.18\\\\Mod\\\\Arch',\n",
       "  'C:\\\\Program Files\\\\FreeCAD 0.18\\\\Mod\\\\AddonManager',\n",
       "  'C:\\\\Program Files\\\\FreeCAD 0.18\\\\Mod',\n",
       "  'C:\\\\Program Files\\\\FreeCAD 0.18\\\\lib64',\n",
       "  'C:\\\\Program Files\\\\FreeCAD 0.18\\\\lib',\n",
       "  'C:\\\\Program Files\\\\FreeCAD 0.18\\\\Ext',\n",
       "  'C:\\\\Program Files\\\\FreeCAD 0.18\\\\bin',\n",
       "  'C:\\\\Program Files\\\\FreeCAD 0.18\\\\bin\\\\python36.zip',\n",
       "  'C:\\\\Program Files\\\\FreeCAD 0.18\\\\bin\\\\DLLs',\n",
       "  'C:\\\\Program Files\\\\FreeCAD 0.18\\\\bin\\\\lib',\n",
       "  'C:\\\\Program Files\\\\FreeCAD 0.18\\\\bin',\n",
       "  'C:\\\\Program Files\\\\FreeCAD 0.18\\\\bin\\\\lib\\\\site-packages',\n",
       "  'C:\\\\Users\\\\pista\\\\AppData\\\\Roaming\\\\FreeCAD\\\\Mod\\\\cadquery_module\\\\ThirdParty',\n",
       "  '',\n",
       "  'C:\\\\Program Files\\\\FreeCAD 0.18\\\\Macro',\n",
       "  'C:\\\\Users\\\\pista\\\\AppData\\\\Roaming\\\\FreeCAD\\\\Mod\\\\cadquery_module\\\\Libs/cadquery/examples']]"
      ]
     },
     "execution_count": 2,
     "metadata": {},
     "output_type": "execute_result"
    }
   ],
   "source": [
    "sys.path"
   ]
  },
  {
   "cell_type": "code",
   "execution_count": 1,
   "metadata": {},
   "outputs": [
    {
     "ename": "ImportError",
     "evalue": "cadquery was unable to determine freecad library path",
     "output_type": "error",
     "traceback": [
      "\u001b[1;31m---------------------------------------------------------------------------\u001b[0m",
      "\u001b[1;31mImportError\u001b[0m                               Traceback (most recent call last)",
      "\u001b[1;32m<ipython-input-1-127b0e866cb5>\u001b[0m in \u001b[0;36m<module>\u001b[1;34m()\u001b[0m\n\u001b[1;32m----> 1\u001b[1;33m \u001b[1;32mimport\u001b[0m \u001b[0mcadquery\u001b[0m \u001b[1;32mas\u001b[0m \u001b[0mcq\u001b[0m\u001b[1;33m\u001b[0m\u001b[0m\n\u001b[0m",
      "\u001b[1;32mC:\\Users\\pista\\moje\\WinPython-64bit-2.7.13.1Zero\\python-2.7.13.amd64\\lib\\site-packages\\cadquery\\__init__.py\u001b[0m in \u001b[0;36m<module>\u001b[1;34m()\u001b[0m\n\u001b[0;32m      1\u001b[0m \u001b[1;31m#these items point to the freecad implementation\u001b[0m\u001b[1;33m\u001b[0m\u001b[1;33m\u001b[0m\u001b[0m\n\u001b[1;32m----> 2\u001b[1;33m \u001b[1;32mfrom\u001b[0m \u001b[1;33m.\u001b[0m\u001b[0mfreecad_impl\u001b[0m\u001b[1;33m.\u001b[0m\u001b[0mgeom\u001b[0m \u001b[1;32mimport\u001b[0m \u001b[0mPlane\u001b[0m\u001b[1;33m,\u001b[0m\u001b[0mBoundBox\u001b[0m\u001b[1;33m,\u001b[0m\u001b[0mVector\u001b[0m\u001b[1;33m,\u001b[0m\u001b[0mMatrix\u001b[0m\u001b[1;33m,\u001b[0m\u001b[0msortWiresByBuildOrder\u001b[0m\u001b[1;33m\u001b[0m\u001b[0m\n\u001b[0m\u001b[0;32m      3\u001b[0m \u001b[1;32mfrom\u001b[0m \u001b[1;33m.\u001b[0m\u001b[0mfreecad_impl\u001b[0m\u001b[1;33m.\u001b[0m\u001b[0mshapes\u001b[0m \u001b[1;32mimport\u001b[0m \u001b[0mShape\u001b[0m\u001b[1;33m,\u001b[0m\u001b[0mVertex\u001b[0m\u001b[1;33m,\u001b[0m\u001b[0mEdge\u001b[0m\u001b[1;33m,\u001b[0m\u001b[0mFace\u001b[0m\u001b[1;33m,\u001b[0m\u001b[0mWire\u001b[0m\u001b[1;33m,\u001b[0m\u001b[0mSolid\u001b[0m\u001b[1;33m,\u001b[0m\u001b[0mShell\u001b[0m\u001b[1;33m,\u001b[0m\u001b[0mCompound\u001b[0m\u001b[1;33m\u001b[0m\u001b[0m\n\u001b[0;32m      4\u001b[0m \u001b[1;32mfrom\u001b[0m \u001b[1;33m.\u001b[0m\u001b[0mfreecad_impl\u001b[0m \u001b[1;32mimport\u001b[0m \u001b[0mexporters\u001b[0m\u001b[1;33m\u001b[0m\u001b[0m\n\u001b[0;32m      5\u001b[0m \u001b[1;32mfrom\u001b[0m \u001b[1;33m.\u001b[0m\u001b[0mfreecad_impl\u001b[0m \u001b[1;32mimport\u001b[0m \u001b[0mimporters\u001b[0m\u001b[1;33m\u001b[0m\u001b[0m\n",
      "\u001b[1;32mC:\\Users\\pista\\moje\\WinPython-64bit-2.7.13.1Zero\\python-2.7.13.amd64\\lib\\site-packages\\cadquery\\freecad_impl\\__init__.py\u001b[0m in \u001b[0;36m<module>\u001b[1;34m()\u001b[0m\n\u001b[0;32m    151\u001b[0m         \u001b[1;32mimport\u001b[0m \u001b[0mFreeCAD\u001b[0m\u001b[1;33m\u001b[0m\u001b[0m\n\u001b[0;32m    152\u001b[0m     \u001b[1;32mexcept\u001b[0m \u001b[0mImportError\u001b[0m\u001b[1;33m:\u001b[0m\u001b[1;33m\u001b[0m\u001b[0m\n\u001b[1;32m--> 153\u001b[1;33m         \u001b[0mpath\u001b[0m \u001b[1;33m=\u001b[0m \u001b[0m_fc_path\u001b[0m\u001b[1;33m(\u001b[0m\u001b[1;33m)\u001b[0m\u001b[1;33m\u001b[0m\u001b[0m\n\u001b[0m\u001b[0;32m    154\u001b[0m         \u001b[0msys\u001b[0m\u001b[1;33m.\u001b[0m\u001b[0mpath\u001b[0m\u001b[1;33m.\u001b[0m\u001b[0minsert\u001b[0m\u001b[1;33m(\u001b[0m\u001b[1;36m0\u001b[0m\u001b[1;33m,\u001b[0m \u001b[0mpath\u001b[0m\u001b[1;33m)\u001b[0m\u001b[1;33m\u001b[0m\u001b[0m\n\u001b[0;32m    155\u001b[0m         \u001b[1;32mimport\u001b[0m \u001b[0mFreeCAD\u001b[0m\u001b[1;33m\u001b[0m\u001b[0m\n",
      "\u001b[1;32mC:\\Users\\pista\\moje\\WinPython-64bit-2.7.13.1Zero\\python-2.7.13.amd64\\lib\\site-packages\\cadquery\\freecad_impl\\__init__.py\u001b[0m in \u001b[0;36m_fc_path\u001b[1;34m()\u001b[0m\n\u001b[0;32m    143\u001b[0m                 \u001b[1;32mreturn\u001b[0m \u001b[0m_PATH\u001b[0m\u001b[1;33m\u001b[0m\u001b[0m\n\u001b[0;32m    144\u001b[0m \u001b[1;33m\u001b[0m\u001b[0m\n\u001b[1;32m--> 145\u001b[1;33m     \u001b[1;32mraise\u001b[0m \u001b[0mImportError\u001b[0m\u001b[1;33m(\u001b[0m\u001b[1;34m'cadquery was unable to determine freecad library path'\u001b[0m\u001b[1;33m)\u001b[0m\u001b[1;33m\u001b[0m\u001b[0m\n\u001b[0m\u001b[0;32m    146\u001b[0m \u001b[1;33m\u001b[0m\u001b[0m\n\u001b[0;32m    147\u001b[0m \u001b[1;33m\u001b[0m\u001b[0m\n",
      "\u001b[1;31mImportError\u001b[0m: cadquery was unable to determine freecad library path"
     ]
    }
   ],
   "source": [
    "import cadquery as cq"
   ]
  },
  {
   "cell_type": "code",
   "execution_count": null,
   "metadata": {},
   "outputs": [],
   "source": [
    "length = 3887.\n",
    "width = 50.\n",
    "thickness = 5.\n",
    "\n",
    "box = cq.Workplane(\"XY\").box(length, width, width)\n",
    "print(box)\n",
    "\n",
    "show_object(box)"
   ]
  }
 ],
 "metadata": {
  "kernelspec": {
   "display_name": "Python 2",
   "language": "python",
   "name": "python2"
  },
  "language_info": {
   "codemirror_mode": {
    "name": "ipython",
    "version": 2
   },
   "file_extension": ".py",
   "mimetype": "text/x-python",
   "name": "python",
   "nbconvert_exporter": "python",
   "pygments_lexer": "ipython2",
   "version": "2.7.13"
  }
 },
 "nbformat": 4,
 "nbformat_minor": 2
}
